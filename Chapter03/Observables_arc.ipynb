{
 "cells": [
  {
   "cell_type": "code",
   "execution_count": 1,
   "id": "65698c5b",
   "metadata": {},
   "outputs": [],
   "source": [
    "using Observables, Plots"
   ]
  },
  {
   "cell_type": "code",
   "execution_count": 2,
   "id": "cc02bedd",
   "metadata": {},
   "outputs": [
    {
     "data": {
      "text/plain": [
       "Observable{Float64} with 0 listeners. Value:\n",
       "1.5707963267948966"
      ]
     },
     "execution_count": 2,
     "metadata": {},
     "output_type": "execute_result"
    }
   ],
   "source": [
    "angle = Observable(pi/2)"
   ]
  },
  {
   "cell_type": "code",
   "execution_count": 3,
   "id": "3edbf4f8",
   "metadata": {},
   "outputs": [
    {
     "data": {
      "text/plain": [
       "plot_arc (generic function with 1 method)"
      ]
     },
     "execution_count": 3,
     "metadata": {},
     "output_type": "execute_result"
    }
   ],
   "source": [
    "function plot_arc(angle_value)\n",
    "    angles = range(0, angle_value, length=100)\n",
    "    x = cos.(angles)\n",
    "    y = sin.(angles)\n",
    "    plt = plot(\n",
    "        x, y, \n",
    "        ratio=:equal, \n",
    "        xlims=(-1.5, 1.5), ylims=(-1.5, 1.5), \n",
    "        legend=:none, \n",
    "        framestyle=:none)\n",
    "    display(plt)\n",
    "end"
   ]
  },
  {
   "cell_type": "code",
   "execution_count": 4,
   "id": "0c74a0ba",
   "metadata": {},
   "outputs": [
    {
     "data": {
      "text/plain": [
       "(::Observables.ObserverFunction) (generic function with 0 methods)"
      ]
     },
     "execution_count": 4,
     "metadata": {},
     "output_type": "execute_result"
    }
   ],
   "source": [
    "angle_observer = on(plot_arc, angle)"
   ]
  },
  {
   "cell_type": "code",
   "execution_count": 5,
   "id": "f1ff2745",
   "metadata": {},
   "outputs": [
    {
     "data": {
      "image/svg+xml": [
       "<?xml version=\"1.0\" encoding=\"utf-8\"?>\n",
       "<svg xmlns=\"http://www.w3.org/2000/svg\" xmlns:xlink=\"http://www.w3.org/1999/xlink\" width=\"600\" height=\"400\" viewBox=\"0 0 2400 1600\">\n",
       "<defs>\n",
       "  <clipPath id=\"clip510\">\n",
       "    <rect x=\"0\" y=\"0\" width=\"2400\" height=\"1600\"/>\n",
       "  </clipPath>\n",
       "</defs>\n",
       "<path clip-path=\"url(#clip510)\" d=\"\n",
       "M0 1600 L2400 1600 L2400 0 L0 0  Z\n",
       "  \" fill=\"#ffffff\" fill-rule=\"evenodd\" fill-opacity=\"1\"/>\n",
       "<defs>\n",
       "  <clipPath id=\"clip511\">\n",
       "    <rect x=\"480\" y=\"0\" width=\"1681\" height=\"1600\"/>\n",
       "  </clipPath>\n",
       "</defs>\n",
       "<path clip-path=\"url(#clip510)\" d=\"\n",
       "M553.744 1486.45 L1992.95 1486.45 L1992.95 47.2441 L553.744 47.2441  Z\n",
       "  \" fill=\"#ffffff\" fill-rule=\"evenodd\" fill-opacity=\"1\"/>\n",
       "<defs>\n",
       "  <clipPath id=\"clip512\">\n",
       "    <rect x=\"553\" y=\"47\" width=\"1440\" height=\"1440\"/>\n",
       "  </clipPath>\n",
       "</defs>\n",
       "<polyline clip-path=\"url(#clip512)\" style=\"stroke:#009af9; stroke-linecap:butt; stroke-linejoin:round; stroke-width:4; stroke-opacity:1; fill:none\" points=\"\n",
       "  1753.08,766.846 1753.02,759.235 1752.84,751.625 1752.54,744.019 1752.11,736.419 1751.57,728.827 1750.91,721.244 1750.12,713.673 1749.22,706.115 1748.2,698.573 \n",
       "  1747.05,691.047 1745.79,683.541 1744.41,676.056 1742.91,668.593 1741.29,661.155 1739.56,653.744 1737.7,646.362 1735.73,639.009 1733.65,631.689 1731.45,624.403 \n",
       "  1729.13,617.153 1726.7,609.94 1724.15,602.767 1721.49,595.635 1718.72,588.547 1715.83,581.503 1712.83,574.506 1709.73,567.557 1706.51,560.658 1703.19,553.812 \n",
       "  1699.75,547.019 1696.21,540.281 1692.56,533.601 1688.81,526.979 1684.95,520.417 1680.99,513.918 1676.92,507.482 1672.76,501.111 1668.49,494.808 1664.13,488.573 \n",
       "  1659.66,482.408 1655.1,476.314 1650.44,470.294 1645.69,464.348 1640.84,458.479 1635.91,452.687 1630.88,446.974 1625.76,441.342 1620.55,435.791 1615.25,430.324 \n",
       "  1609.87,424.942 1604.4,419.646 1598.85,414.437 1593.22,409.317 1587.51,404.287 1581.71,399.348 1575.84,394.502 1569.9,389.749 1563.88,385.092 1557.78,380.53 \n",
       "  1551.62,376.066 1545.38,371.7 1539.08,367.433 1532.71,363.268 1526.27,359.203 1519.77,355.242 1513.21,351.384 1506.59,347.63 1499.91,343.982 1493.17,340.441 \n",
       "  1486.38,337.007 1479.53,333.681 1472.63,330.464 1465.69,327.357 1458.69,324.361 1451.65,321.476 1444.56,318.703 1437.42,316.043 1430.25,313.496 1423.04,311.064 \n",
       "  1415.79,308.746 1408.5,306.544 1401.18,304.458 1393.83,302.488 1386.45,300.634 1379.04,298.899 1371.6,297.281 1364.14,295.781 1356.65,294.4 1349.14,293.137 \n",
       "  1341.62,291.994 1334.08,290.971 1326.52,290.067 1318.95,289.284 1311.36,288.62 1303.77,288.077 1296.17,287.655 1288.57,287.353 1280.96,287.172 1273.35,287.111 \n",
       "  \n",
       "  \"/>\n",
       "</svg>\n"
      ]
     },
     "metadata": {},
     "output_type": "display_data"
    }
   ],
   "source": [
    "notify!(angle)"
   ]
  },
  {
   "cell_type": "code",
   "execution_count": 6,
   "id": "0c4aec67",
   "metadata": {},
   "outputs": [
    {
     "data": {
      "image/svg+xml": [
       "<?xml version=\"1.0\" encoding=\"utf-8\"?>\n",
       "<svg xmlns=\"http://www.w3.org/2000/svg\" xmlns:xlink=\"http://www.w3.org/1999/xlink\" width=\"600\" height=\"400\" viewBox=\"0 0 2400 1600\">\n",
       "<defs>\n",
       "  <clipPath id=\"clip550\">\n",
       "    <rect x=\"0\" y=\"0\" width=\"2400\" height=\"1600\"/>\n",
       "  </clipPath>\n",
       "</defs>\n",
       "<path clip-path=\"url(#clip550)\" d=\"\n",
       "M0 1600 L2400 1600 L2400 0 L0 0  Z\n",
       "  \" fill=\"#ffffff\" fill-rule=\"evenodd\" fill-opacity=\"1\"/>\n",
       "<defs>\n",
       "  <clipPath id=\"clip551\">\n",
       "    <rect x=\"480\" y=\"0\" width=\"1681\" height=\"1600\"/>\n",
       "  </clipPath>\n",
       "</defs>\n",
       "<path clip-path=\"url(#clip550)\" d=\"\n",
       "M553.744 1486.45 L1992.95 1486.45 L1992.95 47.2441 L553.744 47.2441  Z\n",
       "  \" fill=\"#ffffff\" fill-rule=\"evenodd\" fill-opacity=\"1\"/>\n",
       "<defs>\n",
       "  <clipPath id=\"clip552\">\n",
       "    <rect x=\"553\" y=\"47\" width=\"1440\" height=\"1440\"/>\n",
       "  </clipPath>\n",
       "</defs>\n",
       "<polyline clip-path=\"url(#clip552)\" style=\"stroke:#009af9; stroke-linecap:butt; stroke-linejoin:round; stroke-width:4; stroke-opacity:1; fill:none\" points=\"\n",
       "  1753.08,766.846 1752.97,756.698 1752.65,746.554 1752.11,736.419 1751.36,726.298 1750.4,716.195 1749.22,706.115 1747.83,696.062 1746.23,686.041 1744.41,676.056 \n",
       "  1742.39,666.111 1740.15,656.212 1737.7,646.362 1735.05,636.566 1732.19,626.828 1729.13,617.153 1725.86,607.545 1722.39,598.008 1718.72,588.547 1714.84,579.165 \n",
       "  1710.78,569.868 1706.51,560.658 1702.05,551.541 1697.4,542.521 1692.56,533.601 1687.53,524.785 1682.32,516.077 1676.92,507.482 1671.35,499.003 1665.59,490.643 \n",
       "  1659.66,482.408 1653.56,474.299 1647.28,466.322 1640.84,458.479 1634.24,450.774 1627.47,443.21 1620.55,435.791 1613.47,428.521 1606.23,421.401 1598.85,414.437 \n",
       "  1591.32,407.63 1583.65,400.984 1575.84,394.502 1567.9,388.186 1559.82,382.04 1551.62,376.066 1543.29,370.267 1534.84,364.645 1526.27,359.203 1517.59,353.944 \n",
       "  1508.81,348.87 1499.91,343.982 1490.91,339.284 1481.82,334.777 1472.63,330.464 1463.36,326.346 1454,322.425 1444.56,318.703 1435.04,315.181 1425.45,311.862 \n",
       "  1415.79,308.746 1406.07,305.836 1396.28,303.131 1386.45,300.634 1376.56,298.346 1366.63,296.268 1356.65,294.4 1346.64,292.743 1336.59,291.299 1326.52,290.067 \n",
       "  1316.42,289.049 1306.3,288.245 1296.17,287.655 1286.03,287.279 1275.88,287.118 1265.73,287.172 1255.59,287.44 1245.45,287.923 1235.33,288.62 1225.22,289.532 \n",
       "  1215.13,290.656 1205.07,291.994 1195.04,293.545 1185.05,295.307 1175.09,297.281 1165.18,299.464 1155.32,301.857 1145.51,304.458 1135.76,307.265 1126.07,310.279 \n",
       "  1116.44,313.496 1106.89,316.917 1097.4,320.539 1088,324.361 1078.68,328.38 1069.45,332.596 1060.31,337.007 1051.27,341.609 1042.32,346.402 1033.48,351.384 \n",
       "  \n",
       "  \"/>\n",
       "</svg>\n"
      ]
     },
     "metadata": {},
     "output_type": "display_data"
    },
    {
     "data": {
      "text/plain": [
       "2.0943951023931953"
      ]
     },
     "execution_count": 6,
     "metadata": {},
     "output_type": "execute_result"
    }
   ],
   "source": [
    "angle[] = pi*2/3"
   ]
  }
 ],
 "metadata": {
  "@webio": {
   "lastCommId": null,
   "lastKernelId": null
  },
  "kernelspec": {
   "display_name": "Julia 1.6.2",
   "language": "julia",
   "name": "julia-1.6"
  },
  "language_info": {
   "file_extension": ".jl",
   "mimetype": "application/julia",
   "name": "julia",
   "version": "1.6.2"
  }
 },
 "nbformat": 4,
 "nbformat_minor": 5
}
